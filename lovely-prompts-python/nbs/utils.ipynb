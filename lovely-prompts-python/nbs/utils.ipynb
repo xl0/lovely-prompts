{
 "cells": [
  {
   "attachments": {},
   "cell_type": "markdown",
   "metadata": {},
   "source": [
    "# Utils\n",
    "\n",
    "> Various useful utils\n"
   ]
  },
  {
   "cell_type": "code",
   "execution_count": 1,
   "metadata": {},
   "outputs": [],
   "source": [
    "# | default_exp utils"
   ]
  },
  {
   "cell_type": "code",
   "execution_count": 2,
   "metadata": {},
   "outputs": [],
   "source": [
    "# | hide\n",
    "import nbdev\n",
    "\n",
    "nbdev.nbdev_export()"
   ]
  },
  {
   "cell_type": "code",
   "execution_count": 3,
   "metadata": {},
   "outputs": [],
   "source": [
    "# | export\n",
    "\n",
    "def max_tokens_for_model(model: str) -> int:\n",
    "    token_counts: dict = {\n",
    "        \"gpt-4\": 8192,\n",
    "        \"gpt-4-0613\": 8192,\n",
    "        \"gpt-4-32k\": 32768,\n",
    "        \"gpt-4-32k-0613\": 32768,\n",
    "        \"gpt-3.5-turbo\": 4096,\n",
    "        \"gpt-3.5-turbo-16k\": 16384,\n",
    "        \"gpt-3.5-turbo-0613\": 4096,\n",
    "        \"gpt-3.5-turbo-16k-0613\": 16384,\n",
    "    }\n",
    "\n",
    "    return token_counts.get(model, None)\n",
    "\n"
   ]
  }
 ],
 "metadata": {
  "kernelspec": {
   "display_name": "python3",
   "language": "python",
   "name": "python3"
  },
  "language_info": {
   "codemirror_mode": {
    "name": "ipython",
    "version": 3
   },
   "file_extension": ".py",
   "mimetype": "text/x-python",
   "name": "python",
   "nbconvert_exporter": "python",
   "pygments_lexer": "ipython3",
   "version": "3.11.4"
  }
 },
 "nbformat": 4,
 "nbformat_minor": 4
}
